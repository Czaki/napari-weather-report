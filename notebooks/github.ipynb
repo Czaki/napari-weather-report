{
 "cells": [
  {
   "cell_type": "code",
   "execution_count": 1,
   "id": "d38194a3-b5a7-410e-b23a-de7461c90dc4",
   "metadata": {
    "ExecuteTime": {
     "end_time": "2024-05-10T20:12:07.752241Z",
     "start_time": "2024-05-10T20:12:07.739477Z"
    }
   },
   "outputs": [],
   "source": [
    "%load_ext autoreload\n",
    "%autoreload 2"
   ]
  },
  {
   "cell_type": "code",
   "execution_count": 2,
   "id": "4104122766029b85",
   "metadata": {
    "ExecuteTime": {
     "end_time": "2024-05-10T20:12:08.242782Z",
     "start_time": "2024-05-10T20:12:08.144969Z"
    }
   },
   "outputs": [],
   "source": [
    "import datetime\n",
    "import json\n",
    "import logging\n",
    "import os\n",
    "\n",
    "logging.basicConfig(level=logging.INFO)\n",
    "assert os.path.exists(\"../html\")\n",
    "\n",
    "LABELS = [\n",
    "    \"bugfix\",\n",
    "    \"feature\",\n",
    "    \"documentation\",\n",
    "    \"performance\",\n",
    "    \"enhancement\",\n",
    "    \"maintenance\",\n",
    "]"
   ]
  },
  {
   "cell_type": "code",
   "execution_count": 3,
   "id": "4d1ec0a164fcb319",
   "metadata": {
    "ExecuteTime": {
     "end_time": "2024-05-10T20:12:10.158906Z",
     "start_time": "2024-05-10T20:12:08.903074Z"
    },
    "scrolled": true
   },
   "outputs": [],
   "source": [
    "from napari_dashboard.db_schema.base import Base\n",
    "from napari_dashboard.db_schema.github import PullRequests\n",
    "from napari_dashboard.db_update.github import (\n",
    "    save_issues,\n",
    "    save_pull_requests,\n",
    "    save_stars,\n",
    "    setup_cache,\n",
    ")\n",
    "from napari_dashboard.db_update.util import JSONEncoder\n",
    "from napari_dashboard.gen_stat.github import (\n",
    "    calc_stars_per_day_cumulative,\n",
    "    count_recent_pull_requests_by_label,\n",
    "    generate_basic_stats,\n",
    "    get_contributors,\n",
    ")"
   ]
  },
  {
   "cell_type": "code",
   "execution_count": 4,
   "id": "fb20dff44a056d9e",
   "metadata": {
    "ExecuteTime": {
     "end_time": "2024-05-10T19:32:19.410973Z",
     "start_time": "2024-05-10T19:32:19.408557Z"
    }
   },
   "outputs": [],
   "source": [
    "from sqlalchemy import create_engine\n",
    "from sqlalchemy.orm import Session"
   ]
  },
  {
   "cell_type": "code",
   "execution_count": 5,
   "id": "d93cf317345451a4",
   "metadata": {
    "ExecuteTime": {
     "end_time": "2024-05-10T19:32:19.942228Z",
     "start_time": "2024-05-10T19:32:19.930331Z"
    }
   },
   "outputs": [],
   "source": [
    "engine = create_engine(\"sqlite:///../sample.db\")\n",
    "Base.metadata.create_all(engine)"
   ]
  },
  {
   "cell_type": "code",
   "execution_count": 6,
   "id": "15034ac338e6069a",
   "metadata": {
    "ExecuteTime": {
     "end_time": "2024-05-10T19:32:20.837973Z",
     "start_time": "2024-05-10T19:32:20.760239Z"
    }
   },
   "outputs": [],
   "source": [
    "setup_cache()"
   ]
  },
  {
   "cell_type": "code",
   "execution_count": 8,
   "id": "84acb770cb3677d4",
   "metadata": {
    "ExecuteTime": {
     "end_time": "2024-05-10T19:32:22.453474Z",
     "start_time": "2024-05-10T19:32:21.413852Z"
    },
    "scrolled": true
   },
   "outputs": [
    {
     "name": "stderr",
     "output_type": "stream",
     "text": [
      "INFO:root:Already saved 2069 stars for napari/napari\n",
      "INFO:root:Already saved 9 stars for napari/docs\n"
     ]
    }
   ],
   "source": [
    "with Session(engine) as session:\n",
    "    save_stars(\"napari\", \"napari\", session)\n",
    "    save_stars(\"napari\", \"docs\", session)"
   ]
  },
  {
   "cell_type": "code",
   "execution_count": 9,
   "id": "20503edf-c5ae-4cc4-9a97-67b5c2617067",
   "metadata": {},
   "outputs": [
    {
     "name": "stderr",
     "output_type": "stream",
     "text": [
      "100%|███████████████████████████████████████| 3934/3934 [00:57<00:00, 68.06it/s]\n",
      "INFO:root:Saved 0 pull requests for napari/napari\n",
      "100%|█████████████████████████████████████████| 251/251 [00:06<00:00, 39.33it/s]\n",
      "INFO:root:Saved 0 pull requests for napari/docs\n"
     ]
    }
   ],
   "source": [
    "with Session(engine) as session:\n",
    "    save_pull_requests(\"napari\", \"napari\", session)\n",
    "    save_pull_requests(\"napari\", \"docs\", session)"
   ]
  },
  {
   "cell_type": "code",
   "execution_count": 7,
   "id": "2e8a74c4-ddf6-4266-adb7-c151729fe5ca",
   "metadata": {},
   "outputs": [
    {
     "name": "stderr",
     "output_type": "stream",
     "text": [
      "100%|█████████████████████████████████████| 6808/6808 [1:08:59<00:00,  1.64it/s]\n",
      "INFO:root:Saved 6808 issues for napari/napari\n",
      "100%|███████████████████████████████████████████████████████████████████████████████████████████████████| 419/419 [04:21<00:00,  1.60it/s]\n",
      "INFO:root:Saved 419 issues for napari/docs\n"
     ]
    }
   ],
   "source": [
    "with Session(engine) as session:\n",
    "    save_issues(\"napari\", \"napari\", session)\n",
    "    save_issues(\"napari\", \"docs\", session)"
   ]
  },
  {
   "cell_type": "code",
   "execution_count": 8,
   "id": "a1ac79c7e3c2ecfb",
   "metadata": {
    "ExecuteTime": {
     "end_time": "2024-05-10T16:57:44.735073Z",
     "start_time": "2024-05-10T16:57:44.712790Z"
    }
   },
   "outputs": [],
   "source": [
    "with Session(engine) as session:\n",
    "    res = calc_stars_per_day_cumulative(\"napari\", \"napari\", session)\n",
    "with open(\"../html/stars.json\", \"w\") as f:\n",
    "    json.dump(res, f, cls=JSONEncoder)"
   ]
  },
  {
   "cell_type": "code",
   "execution_count": 22,
   "id": "52b21c24a15165d4",
   "metadata": {
    "ExecuteTime": {
     "end_time": "2024-05-10T17:15:01.416319Z",
     "start_time": "2024-05-10T17:15:00.776655Z"
    },
    "collapsed": true,
    "jupyter": {
     "outputs_hidden": true
    }
   },
   "outputs": [
    {
     "data": {
      "text/plain": [
       "[('2dx', 2),\n",
       " ('AbigailMcGovern', 3),\n",
       " ('AhmetCanSolak', 28),\n",
       " ('AmirAflak', 1),\n",
       " ('AndrewAnnex', 1),\n",
       " ('BhavyaC16', 1),\n",
       " ('Carreau', 207),\n",
       " ('Chris-N-K', 1),\n",
       " ('ClementCaporal', 1),\n",
       " ('Cryaaa', 1),\n",
       " ('Czaki', 417),\n",
       " ('DanGonite57', 1),\n",
       " ('DenisSch', 1),\n",
       " ('DragaDoncila', 70),\n",
       " ('Fifourche', 1),\n",
       " ('GenevieveBuckley', 39),\n",
       " ('HagaiHargil', 4),\n",
       " ('JoOkuma', 20),\n",
       " ('LucaMarconato', 1),\n",
       " ('MBPhys', 1),\n",
       " ('MaksHess', 1),\n",
       " ('Mishrasubha', 1),\n",
       " ('NHPatterson', 2),\n",
       " ('Nadalyn-CZI', 2),\n",
       " ('NicolasCARPi', 1),\n",
       " ('RDIL', 2),\n",
       " ('RobAnKo', 1),\n",
       " ('UmbWill', 1),\n",
       " ('VolkerH', 9),\n",
       " ('Zac-HD', 1),\n",
       " ('aaristov', 1),\n",
       " ('aeisenbarth', 2),\n",
       " ('aganders3', 14),\n",
       " ('akuten1298', 1),\n",
       " ('alexdesiqueira', 1),\n",
       " ('alisterburt', 57),\n",
       " ('andy-sweet', 110),\n",
       " ('arokem', 2),\n",
       " ('boonepeter', 5),\n",
       " ('brisvag', 109),\n",
       " ('bryantChhun', 2),\n",
       " ('cajongonzales', 1),\n",
       " ('camlloyd', 1),\n",
       " ('cgohlke', 4),\n",
       " ('chili-chiu', 9),\n",
       " ('clbarnes', 2),\n",
       " ('cnstt', 7),\n",
       " ('codemonkey800', 6),\n",
       " ('constantinpape', 1),\n",
       " ('ctr26', 1),\n",
       " ('ctrueden', 1),\n",
       " ('cwood1967', 3),\n",
       " ('d-v-b', 1),\n",
       " ('dalthviz', 44),\n",
       " ('danielballan', 1),\n",
       " ('davidpross', 1),\n",
       " ('ddawsari', 1),\n",
       " ('dependabot[bot]', 39),\n",
       " ('dongyaoli10x', 1),\n",
       " ('dstansby', 58),\n",
       " ('ekdnam', 1),\n",
       " ('elena-pascal', 1),\n",
       " ('floryst', 1),\n",
       " ('freeman-lab', 5),\n",
       " ('gcadenazzi', 1),\n",
       " ('github-actions[bot]', 7),\n",
       " ('glichtner', 1),\n",
       " ('glyg', 2),\n",
       " ('goanpeca', 86),\n",
       " ('grlee77', 24),\n",
       " ('gselzer', 3),\n",
       " ('guiwitz', 2),\n",
       " ('haesleinhuepf', 10),\n",
       " ('harripj', 1),\n",
       " ('hectormz', 5),\n",
       " ('hmaarrfk', 1),\n",
       " ('hugovk', 1),\n",
       " ('ianhi', 2),\n",
       " ('imagejan', 1),\n",
       " ('isabela-pf', 2),\n",
       " ('jaimergp', 50),\n",
       " ('jakirkham', 2),\n",
       " ('jamesyan-git', 3),\n",
       " ('jcfr', 1),\n",
       " ('jczech', 1),\n",
       " ('jeylau', 1),\n",
       " ('jnahlers', 1),\n",
       " ('jni', 141),\n",
       " ('jo-mueller', 1),\n",
       " ('jojoelfe', 2),\n",
       " ('joshmoore', 1),\n",
       " ('jules-vanaret', 5),\n",
       " ('jwindhager', 2),\n",
       " ('kabilar', 2),\n",
       " ('kandarpksk', 2),\n",
       " ('katherine-hutchings', 1),\n",
       " ('kcpevey', 14),\n",
       " ('kephale', 4),\n",
       " ('kevinyamauchi', 68),\n",
       " ('kir0ul', 5),\n",
       " ('kne42', 84),\n",
       " ('kolibril13', 3),\n",
       " ('ksofiyuk', 13),\n",
       " ('kushaangupta', 1),\n",
       " ('laysauchoa', 1),\n",
       " ('leopold-franz', 1),\n",
       " ('liaprins-czi', 2),\n",
       " ('liu-ziyang', 40),\n",
       " ('lucyleeow', 45),\n",
       " ('lukasvasadi', 1),\n",
       " ('lukasz-migas', 11),\n",
       " ('manics', 1),\n",
       " ('manzt', 2),\n",
       " ('marlene09', 1),\n",
       " ('marshuang80', 2),\n",
       " ('matthias-us', 1),\n",
       " ('maweigert', 2),\n",
       " ('melissawm', 47),\n",
       " ('melonora', 7),\n",
       " ('mkitti', 3),\n",
       " ('mrocklin', 1),\n",
       " ('mstabrin', 12),\n",
       " ('napari-bot', 25),\n",
       " ('nclack', 13),\n",
       " ('neuromusic', 3),\n",
       " ('nhthayer', 1),\n",
       " ('nweisenfeld', 1),\n",
       " ('p-j-smith', 1),\n",
       " ('perlman', 10),\n",
       " ('pierrethibault', 1),\n",
       " ('ppwadhwa', 43),\n",
       " ('pranathivemuri', 2),\n",
       " ('pre-commit-ci[bot]', 55),\n",
       " ('psobolewskiPhD', 77),\n",
       " ('pwinston', 69),\n",
       " ('quantumjot', 4),\n",
       " ('royerloic', 2),\n",
       " ('rpanderson', 1),\n",
       " ('rwkozar', 1),\n",
       " ('seankmartin', 2),\n",
       " ('shanaxel42', 3),\n",
       " ('sofroniewn', 418),\n",
       " ('stefanv', 1),\n",
       " ('tdimino', 4),\n",
       " ('thanushipeiris', 1),\n",
       " ('tibuch', 1),\n",
       " ('tlambert03', 476),\n",
       " ('truatpasteurdotfr', 2),\n",
       " ('ttung', 7),\n",
       " ('victorcwai', 1),\n",
       " ('vigji', 1),\n",
       " ('wadhikar', 1),\n",
       " ('wconnell', 1),\n",
       " ('will-moore', 1),\n",
       " ('zeroth', 2),\n",
       " ('zindy', 1),\n",
       " ('zoccoler', 1)]"
      ]
     },
     "execution_count": 22,
     "metadata": {},
     "output_type": "execute_result"
    }
   ],
   "source": [
    "with Session(engine) as session:\n",
    "    s = get_contributors(\"napari\", \"napari\", session)"
   ]
  },
  {
   "cell_type": "code",
   "execution_count": 9,
   "id": "8f3b70b5053dac60",
   "metadata": {
    "ExecuteTime": {
     "end_time": "2024-05-09T10:58:43.160149Z",
     "start_time": "2024-05-09T10:58:42.951348Z"
    }
   },
   "outputs": [
    {
     "name": "stdout",
     "output_type": "stream",
     "text": [
      "{'total_pull_requests': 3381, 'merged_pull_requests': 3381, 'open_pull_requests': 94, 'new_merged_pull_requests': 198, 'new_opened_pull_requests': 52}\n"
     ]
    }
   ],
   "source": [
    "with Session(engine) as session:\n",
    "    print(\n",
    "        generate_basic_stats(\n",
    "            \"napari\",\n",
    "            \"napari\",\n",
    "            session,\n",
    "            datetime.datetime(year=2024, month=1, day=1),\n",
    "        )\n",
    "    )"
   ]
  },
  {
   "cell_type": "code",
   "execution_count": 10,
   "id": "acf45f7ded9d49ba",
   "metadata": {
    "ExecuteTime": {
     "end_time": "2024-05-07T15:27:39.944086Z",
     "start_time": "2024-05-07T15:27:39.923126Z"
    }
   },
   "outputs": [
    {
     "name": "stdout",
     "output_type": "stream",
     "text": [
      "{'total_pull_requests': 3381, 'merged_pull_requests': 3287, 'open_pull_requests': 94, 'new_merged_pull_requests': 198, 'new_opened_pull_requests': 52}\n"
     ]
    }
   ],
   "source": [
    "with Session(engine) as session:\n",
    "    print(\n",
    "        generate_basic_stats(\n",
    "            \"napari\",\n",
    "            \"napari\",\n",
    "            session,\n",
    "            datetime.datetime(year=2024, month=1, day=1),\n",
    "        )\n",
    "    )"
   ]
  },
  {
   "cell_type": "code",
   "execution_count": 23,
   "id": "715cb5ee-be7c-452a-9acd-1edeec4f7c22",
   "metadata": {},
   "outputs": [
    {
     "name": "stdout",
     "output_type": "stream",
     "text": [
      "[]\n"
     ]
    }
   ],
   "source": [
    "with Session(engine) as session:\n",
    "    print(\n",
    "        session.query(PullRequests)\n",
    "        .filter(PullRequests.pull_request == 9896)\n",
    "        .all()\n",
    "    )"
   ]
  },
  {
   "cell_type": "code",
   "execution_count": 9,
   "id": "d091326278d0aeae",
   "metadata": {
    "ExecuteTime": {
     "end_time": "2024-05-07T16:26:22.719337Z",
     "start_time": "2024-05-07T16:26:22.707443Z"
    }
   },
   "outputs": [
    {
     "name": "stdout",
     "output_type": "stream",
     "text": [
      "{'bugfix': 39, 'feature': 8, 'documentation': 10, 'performance': 4, 'enhancement': 9, 'maintenance': 135}\n"
     ]
    }
   ],
   "source": [
    "with Session(engine) as session:\n",
    "    print(\n",
    "        count_recent_pull_requests_by_label(\n",
    "            \"napari\",\n",
    "            \"napari\",\n",
    "            session,\n",
    "            datetime.datetime(year=2024, month=1, day=1),\n",
    "            LABELS,\n",
    "        )\n",
    "    )"
   ]
  },
  {
   "cell_type": "code",
   "execution_count": 16,
   "id": "6a3f8428ebec3167",
   "metadata": {
    "ExecuteTime": {
     "end_time": "2024-05-07T16:26:40.061367Z",
     "start_time": "2024-05-07T16:26:40.033099Z"
    }
   },
   "outputs": [
    {
     "data": {
      "text/plain": [
       "(datetime.datetime(2024, 5, 13, 12, 30, 49, tzinfo=datetime.timezone.utc),\n",
       " datetime.datetime(2024, 5, 13, 12, 30, 49, tzinfo=datetime.timezone.utc))"
      ]
     },
     "execution_count": 16,
     "metadata": {},
     "output_type": "execute_result"
    }
   ],
   "source": ""
  },
  {
   "cell_type": "code",
   "id": "9ec4a185512a5f8c",
   "metadata": {
    "ExecuteTime": {
     "end_time": "2024-05-15T08:59:48.698593Z",
     "start_time": "2024-05-15T08:59:48.696295Z"
    }
   },
   "source": "",
   "outputs": [],
   "execution_count": null
  },
  {
   "cell_type": "code",
   "execution_count": null,
   "id": "6f87cef7eacf5347",
   "metadata": {},
   "outputs": [],
   "source": []
  },
  {
   "cell_type": "code",
   "execution_count": 16,
   "id": "8fd18d82df4fd2f5",
   "metadata": {
    "ExecuteTime": {
     "end_time": "2024-05-07T14:47:10.727283Z",
     "start_time": "2024-05-07T14:47:10.715240Z"
    }
   },
   "outputs": [],
   "source": ""
  },
  {
   "cell_type": "code",
   "execution_count": 48,
   "id": "eb502d81e9a78ded",
   "metadata": {
    "ExecuteTime": {
     "end_time": "2024-05-07T15:23:42.534941Z",
     "start_time": "2024-05-07T15:23:42.518493Z"
    }
   },
   "outputs": [
    {
     "data": {
      "text/plain": [
       "5000"
      ]
     },
     "execution_count": 48,
     "metadata": {},
     "output_type": "execute_result"
    }
   ],
   "source": ""
  }
 ],
 "metadata": {
  "kernelspec": {
   "display_name": "Python 3 (ipykernel)",
   "language": "python",
   "name": "python3"
  },
  "language_info": {
   "codemirror_mode": {
    "name": "ipython",
    "version": 3
   },
   "file_extension": ".py",
   "mimetype": "text/x-python",
   "name": "python",
   "nbconvert_exporter": "python",
   "pygments_lexer": "ipython3",
   "version": "3.11.5"
  }
 },
 "nbformat": 4,
 "nbformat_minor": 5
}
