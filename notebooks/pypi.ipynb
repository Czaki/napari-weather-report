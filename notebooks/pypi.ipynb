{
 "cells": [
  {
   "cell_type": "code",
   "execution_count": 1,
   "id": "60ccb02f-5c75-450e-999b-098d8eda033e",
   "metadata": {},
   "source": [
    "import datetime\n",
    "\n",
    "import ibis\n",
    "from google.cloud import bigquery\n",
    "from google.oauth2 import service_account\n",
    "from sqlalchemy import MetaData, create_engine, func\n",
    "from sqlalchemy.orm import Session"
   ],
   "outputs": []
  },
  {
   "cell_type": "code",
   "execution_count": 5,
   "id": "82e99f16-8696-4439-9873-c0c09ac26192",
   "metadata": {},
   "source": [
    "from napari_dashboard.db_schema.pypi import PyPi\n",
    "from napari_dashboard.db_update.pypi import (\n",
    "    build_new_projects_query,\n",
    "    build_update_query,\n",
    ")"
   ],
   "outputs": []
  },
  {
   "cell_type": "code",
   "execution_count": 6,
   "id": "c1fc9957-c33e-415f-b92e-1afefac18b9f",
   "metadata": {},
   "source": [
    "%load_ext google.cloud.bigquery\n",
    "%load_ext autoreload\n",
    "\n",
    "%autoreload 2"
   ],
   "outputs": []
  },
  {
   "cell_type": "code",
   "execution_count": 7,
   "id": "87264fda-d5e5-4803-987b-a618c2bc6519",
   "metadata": {},
   "source": [
    "!pwd"
   ],
   "outputs": []
  },
  {
   "cell_type": "code",
   "execution_count": 8,
   "id": "3ad52cc8-02b7-4a0e-9db5-b441c2a823cb",
   "metadata": {},
   "source": [
    "credentials = service_account.Credentials.from_service_account_file(\n",
    "    \"../key.json\"\n",
    ")\n",
    "bqclient = bigquery.Client(\n",
    "    credentials=credentials, project=credentials.project_id\n",
    ")"
   ],
   "outputs": []
  },
  {
   "cell_type": "code",
   "execution_count": 9,
   "id": "e8c586bb-08de-4f17-ad24-18e0f5862c05",
   "metadata": {},
   "source": [
    "engine = create_engine(\"sqlite:///../sample.db\")\n",
    "\n",
    "metadata = MetaData()\n",
    "metadata.reflect(bind=engine)\n",
    "if \"pypi_downloads\" not in metadata.tables:\n",
    "    PyPi.metadata.create_all(engine)"
   ],
   "outputs": []
  },
  {
   "cell_type": "code",
   "execution_count": 11,
   "id": "cfc1ce96-a90d-488a-b588-82c9a8405f40",
   "metadata": {},
   "source": [
    "QUERRY_STR = f\"\"\"\n",
    "{build_update_query(engine)}\n",
    "\n",
    "UNION ALL\n",
    "\n",
    "{build_new_projects_query(engine)}\n",
    "\"\"\"\n",
    "print(QUERRY_STR)"
   ],
   "outputs": []
  },
  {
   "cell_type": "code",
   "execution_count": 13,
   "id": "8d192faf-e26d-4b8c-874b-07a6be955122",
   "metadata": {
    "scrolled": true
   },
   "source": [
    "job = bqclient.query(build_update_query(engine))\n",
    "with Session(engine) as session:\n",
    "    before = session.query(func.count(PyPi.id)).scalar()\n",
    "    elem = []\n",
    "    for row in job.result():\n",
    "        elem.append(PyPi(**row))\n",
    "    session.add_all(elem)\n",
    "    session.commit()\n",
    "    after = session.query(func.count(PyPi.id)).scalar()\n",
    "print(\"new rows:\", after - before)"
   ],
   "outputs": []
  },
  {
   "cell_type": "code",
   "execution_count": 15,
   "id": "ad258d94-3472-46c8-ba12-8e62c7d52660",
   "metadata": {},
   "source": [
    "print(build_update_query(engine))"
   ],
   "outputs": []
  },
  {
   "cell_type": "code",
   "execution_count": 40,
   "id": "c1d46694-632c-422b-a2b7-332e5f886d43",
   "metadata": {},
   "source": [
    "QUERY = \"\"\"\n",
    "SELECT *\n",
    "FROM `bigquery-public-data.pypi.file_downloads`\n",
    "WHERE file.project in ('napari', 'partseg', 'ilastik-napari')\n",
    "  -- Only query the last 30 days of history\n",
    "  AND DATE(timestamp)\n",
    "    BETWEEN DATE_SUB(CURRENT_DATE(), INTERVAL 7 DAY)\n",
    "    AND CURRENT_DATE()\n",
    "\"\"\"\n",
    "QUERRY2 = \"\"\"\n",
    "SELECT\n",
    "  details.installer.name,\n",
    "FROM\n",
    "  `bigquery-public-data.pypi.file_downloads`\n",
    "WHERE file.project = 'napari'\n",
    "  -- Only query the last 30 days of history\n",
    "  AND DATE(timestamp)\n",
    "    BETWEEN DATE_SUB(CURRENT_DATE(), INTERVAL 5 DAY)\n",
    "    AND CURRENT_DATE()\n",
    "GROUP BY details.installer.name\n",
    "LIMIT 10\n",
    "\"\"\""
   ],
   "outputs": []
  },
  {
   "cell_type": "code",
   "execution_count": 7,
   "id": "e11d4637-80d5-4b5a-a483-a9b2ef9cfedc",
   "metadata": {},
   "source": [
    "df = bqclient.query_and_wait(QUERRY2).to_dataframe()\n",
    "df"
   ],
   "outputs": []
  },
  {
   "cell_type": "code",
   "execution_count": 11,
   "id": "d2b7e02c-bc65-43ff-aaa0-3ee78e4b7be9",
   "metadata": {},
   "source": [
    "res = bqclient.query_and_wait(QUERY)"
   ],
   "outputs": []
  },
  {
   "cell_type": "code",
   "execution_count": 14,
   "id": "b879775a-3fcc-440b-a33f-6806c7436df0",
   "metadata": {},
   "source": [
    "res.to_dataframe().to_csv(\"data.csv\")"
   ],
   "outputs": []
  },
  {
   "cell_type": "code",
   "execution_count": 35,
   "id": "c5b49318-a5ef-4103-8ad7-f4a60e9edff0",
   "metadata": {},
   "source": [
    "con = ibis.bigquery.connect(credentials=credentials)"
   ],
   "outputs": []
  },
  {
   "cell_type": "code",
   "execution_count": 36,
   "id": "49a525d7-c03f-40ad-9242-166fc1116549",
   "metadata": {},
   "source": [
    "pypi_table = con.table(\"bigquery-public-data.pypi.file_downloads\")"
   ],
   "outputs": []
  },
  {
   "cell_type": "code",
   "execution_count": 37,
   "id": "5d7a4900-4454-4918-8a37-f479a5655f1d",
   "metadata": {},
   "source": [
    "yesterday = ibis.now() - ibis.expr.api.interval(days=1)\n",
    "data = pypi_table.filter(\n",
    "    [pypi_table.project == \"napari\", pypi_table.timestamp > yesterday]\n",
    ").execute()"
   ],
   "outputs": []
  },
  {
   "cell_type": "code",
   "execution_count": 31,
   "id": "e848337f-b0ca-448c-a517-6ce3dafbf6c3",
   "metadata": {},
   "source": [
    "sq = ibis.sqlite.connect(\"../sample.db\")"
   ],
   "outputs": []
  },
  {
   "cell_type": "code",
   "execution_count": 32,
   "id": "0429acf3-c7bb-4c05-a1d4-bfdb938f82b0",
   "metadata": {
    "scrolled": true
   },
   "source": [
    "sq.list_tables()"
   ],
   "outputs": []
  },
  {
   "cell_type": "code",
   "execution_count": 40,
   "id": "c5c396b6-4bd0-45c1-b300-2eeb1b21e54b",
   "metadata": {},
   "source": [
    "tb = sq.table(\"pypi_downloads\")"
   ],
   "outputs": []
  },
  {
   "cell_type": "code",
   "execution_count": 41,
   "id": "65b147f0-05e3-485e-b0c2-ec5d73a4d9d8",
   "metadata": {},
   "source": [
    "tb.select"
   ],
   "outputs": []
  },
  {
   "cell_type": "code",
   "execution_count": 12,
   "id": "290dd6f9-89b1-4576-a2cf-ccc5f6931932",
   "metadata": {},
   "source": [],
   "outputs": []
  },
  {
   "cell_type": "code",
   "execution_count": 6,
   "id": "388f4bff-31be-403e-9afe-76c1c4fa8be0",
   "metadata": {
    "scrolled": true
   },
   "source": [],
   "outputs": []
  },
  {
   "cell_type": "code",
   "execution_count": 15,
   "id": "683048c8-8cb0-4f9b-a686-55219c41d766",
   "metadata": {},
   "source": [],
   "outputs": []
  },
  {
   "cell_type": "code",
   "execution_count": 41,
   "id": "2493b5f7-90b2-48e6-a93b-82fd182a25cb",
   "metadata": {},
   "source": [],
   "outputs": []
  },
  {
   "cell_type": "code",
   "execution_count": 42,
   "id": "2027ebf8-6837-4347-8a0c-ad2206584264",
   "metadata": {},
   "source": [],
   "outputs": []
  },
  {
   "cell_type": "code",
   "execution_count": 43,
   "id": "3da1576a-0260-49c7-a7be-69a4dc445006",
   "metadata": {},
   "source": [
    "job = bqclient.query(QUERY)"
   ],
   "outputs": []
  },
  {
   "cell_type": "code",
   "execution_count": 44,
   "id": "33fd414c-52fb-42b3-b1df-bf81e7feea23",
   "metadata": {
    "scrolled": true
   },
   "source": [
    "with Session(engine) as session:\n",
    "    elem = []\n",
    "    for row in job.result():\n",
    "        elem.append(PyPi(**row))\n",
    "    session.add_all(elem)\n",
    "    session.commit()"
   ],
   "outputs": []
  },
  {
   "cell_type": "code",
   "execution_count": 13,
   "id": "288d9f42-67dd-49fe-9d64-5922c76bec0a",
   "metadata": {},
   "source": [
    "with Session(engine) as session:\n",
    "    count = session.query(func.count(PyPi.id)).scalar()\n",
    "count"
   ],
   "outputs": []
  },
  {
   "cell_type": "code",
   "execution_count": 46,
   "id": "6798b242-2472-4600-81ed-b681f5d793ae",
   "metadata": {},
   "source": [
    "len(elem)"
   ],
   "outputs": []
  },
  {
   "cell_type": "code",
   "execution_count": 47,
   "id": "e66ece06-fe91-4aac-ae36-d36ed4a2b9cf",
   "metadata": {},
   "source": [
    "with Session(engine) as session:\n",
    "    dist = session.query(PyPi.project).distinct()\n",
    "list(dist)"
   ],
   "outputs": []
  },
  {
   "cell_type": "code",
   "execution_count": 33,
   "id": "c2156517-98ac-457d-8bc7-797d05476035",
   "metadata": {},
   "source": [
    "import json\n",
    "from urllib.request import Request, urlopen\n",
    "\n",
    "url = \"https://npe2api.vercel.app/api/extended_summary\"\n",
    "with urlopen(Request(url)) as resp:\n",
    "    plugins = json.load(resp)"
   ],
   "outputs": []
  },
  {
   "cell_type": "code",
   "execution_count": 74,
   "id": "6ae89199-6b85-4064-8ba4-673e313ab9c2",
   "metadata": {},
   "source": [
    "datetime.datetime.now()"
   ],
   "outputs": []
  },
  {
   "cell_type": "code",
   "execution_count": 69,
   "id": "02079945-a37f-4c40-bfd9-59b7d9a62e21",
   "metadata": {},
   "source": [],
   "outputs": []
  },
  {
   "cell_type": "code",
   "execution_count": 83,
   "id": "45ff5f0f-a1a7-4954-ac03-68e77d2b5982",
   "metadata": {
    "collapsed": true,
    "jupyter": {
     "outputs_hidden": true
    },
    "scrolled": true
   },
   "source": [
    "list(bqclient.query(build_update_query(engine)))"
   ],
   "outputs": []
  },
  {
   "cell_type": "code",
   "execution_count": 81,
   "id": "eb6bc1d7-a327-4568-aadb-d72b572a7a57",
   "metadata": {},
   "source": [
    "print(build_update_query(engine))"
   ],
   "outputs": []
  }
 ],
 "metadata": {
  "kernelspec": {
   "display_name": "Python 3 (ipykernel)",
   "language": "python",
   "name": "python3"
  },
  "language_info": {
   "codemirror_mode": {
    "name": "ipython",
    "version": 3
   },
   "file_extension": ".py",
   "mimetype": "text/x-python",
   "name": "python",
   "nbconvert_exporter": "python",
   "pygments_lexer": "ipython3",
   "version": "3.11.5"
  }
 },
 "nbformat": 4,
 "nbformat_minor": 5
}
