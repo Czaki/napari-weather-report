{
 "cells": [
  {
   "cell_type": "code",
   "execution_count": 1,
   "id": "ae05933a-f648-443f-babc-cbc4be460852",
   "metadata": {},
   "outputs": [],
   "source": [
    "import requests\n",
    "\n",
    "headers = {\n",
    "    \"User-Agent\": \"Mozilla/5.0 (Windows NT 6.1; WOW64; rv:20.0) Gecko/20100101 Firefox/20.0\"\n",
    "}"
   ]
  },
  {
   "cell_type": "code",
   "execution_count": 10,
   "id": "f0e7ecd0-bf5f-48f0-a175-be34710818d8",
   "metadata": {},
   "outputs": [],
   "source": [
    "tags = requests.get(\"https://forum.image.sc/tags.json\", headers=headers).json()"
   ]
  },
  {
   "cell_type": "code",
   "execution_count": 14,
   "id": "08f54d68-ab8e-42c2-9161-35ed13797c3d",
   "metadata": {},
   "outputs": [
    {
     "name": "stdout",
     "output_type": "stream",
     "text": [
      "13\n"
     ]
    }
   ],
   "source": [
    "napari_tags = [tag for tag in tags[\"tags\"] if \"napari\" in tag[\"name\"]]\n",
    "print(len(napari_tags))"
   ]
  },
  {
   "cell_type": "code",
   "execution_count": 20,
   "id": "7a653535-b2f8-4dee-816c-d570e348313b",
   "metadata": {},
   "outputs": [
    {
     "data": {
      "text/plain": [
       "['napari',\n",
       " 'napari-stardist',\n",
       " 'cellpose-napari',\n",
       " 'napari-tomoslice',\n",
       " 'napari-vollseg',\n",
       " 'napari_cupy_image_proces',\n",
       " 'napari-assistant',\n",
       " 'napari-animation',\n",
       " 'napari-simple-itk',\n",
       " 'devbio-napari',\n",
       " 'napari-napari-dev',\n",
       " 'napari-deeplabcut',\n",
       " 'napari-lattice']"
      ]
     },
     "execution_count": 20,
     "metadata": {},
     "output_type": "execute_result"
    }
   ],
   "source": [
    "[x[\"name\"] for x in napari_tags]"
   ]
  },
  {
   "cell_type": "code",
   "execution_count": 4,
   "id": "7feb8fdd-ce90-4df0-8f05-4879b8bdab78",
   "metadata": {},
   "outputs": [],
   "source": [
    "res = requests.get(\"https://forum.image.sc/tag/napari.json\", headers=headers)"
   ]
  },
  {
   "cell_type": "code",
   "execution_count": 18,
   "id": "453669d9-aa6b-4c63-a720-e736c4988f02",
   "metadata": {},
   "outputs": [
    {
     "data": {
      "text/plain": [
       "{'id': 88684,\n",
       " 'title': 'TEM mitochondria analysis',\n",
       " 'fancy_title': 'TEM mitochondria analysis',\n",
       " 'slug': 'tem-mitochondria-analysis',\n",
       " 'posts_count': 9,\n",
       " 'reply_count': 6,\n",
       " 'highest_post_number': 10,\n",
       " 'image_url': 'https://global.discourse-cdn.com/business4/uploads/imagej/optimized/3X/2/6/26783a9571390d2e24390c0550f3ee88ee3f70b9_2_1024x899.jpeg',\n",
       " 'created_at': '2023-11-14T07:53:55.074Z',\n",
       " 'last_posted_at': '2024-03-18T16:47:00.000Z',\n",
       " 'bumped': True,\n",
       " 'bumped_at': '2024-03-18T16:47:00.000Z',\n",
       " 'archetype': 'regular',\n",
       " 'unseen': False,\n",
       " 'pinned': False,\n",
       " 'unpinned': None,\n",
       " 'visible': True,\n",
       " 'closed': False,\n",
       " 'archived': False,\n",
       " 'bookmarked': None,\n",
       " 'liked': None,\n",
       " 'tags': ['imagej', 'napari', 'mitochondria', 'empanada', 'tem'],\n",
       " 'tags_descriptions': {},\n",
       " 'views': 321,\n",
       " 'like_count': 1,\n",
       " 'has_summary': False,\n",
       " 'last_poster_username': 'aravindan_narayanan',\n",
       " 'category_id': 6,\n",
       " 'pinned_globally': False,\n",
       " 'featured_link': None,\n",
       " 'has_accepted_answer': False,\n",
       " 'can_vote': False,\n",
       " 'posters': [{'extras': None,\n",
       "   'description': 'Original Poster',\n",
       "   'user_id': 30324,\n",
       "   'primary_group_id': None,\n",
       "   'flair_group_id': None},\n",
       "  {'extras': None,\n",
       "   'description': 'Frequent Poster',\n",
       "   'user_id': 28,\n",
       "   'primary_group_id': None,\n",
       "   'flair_group_id': 17},\n",
       "  {'extras': None,\n",
       "   'description': 'Frequent Poster',\n",
       "   'user_id': 23330,\n",
       "   'primary_group_id': None,\n",
       "   'flair_group_id': None},\n",
       "  {'extras': 'latest',\n",
       "   'description': 'Most Recent Poster',\n",
       "   'user_id': 34943,\n",
       "   'primary_group_id': None,\n",
       "   'flair_group_id': None}]}"
      ]
     },
     "execution_count": 18,
     "metadata": {},
     "output_type": "execute_result"
    }
   ],
   "source": [
    "res.json()[\"topic_list\"][\"topics\"][0]"
   ]
  }
 ],
 "metadata": {
  "kernelspec": {
   "display_name": "Python 3 (ipykernel)",
   "language": "python",
   "name": "python3"
  },
  "language_info": {
   "codemirror_mode": {
    "name": "ipython",
    "version": 3
   },
   "file_extension": ".py",
   "mimetype": "text/x-python",
   "name": "python",
   "nbconvert_exporter": "python",
   "pygments_lexer": "ipython3",
   "version": "3.11.5"
  }
 },
 "nbformat": 4,
 "nbformat_minor": 5
}
